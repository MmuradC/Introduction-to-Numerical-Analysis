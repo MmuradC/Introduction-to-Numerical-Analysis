{
 "cells": [
  {
   "cell_type": "markdown",
   "id": "31b377e3",
   "metadata": {},
   "source": [
    "# **Ways to Round Numbers**"
   ]
  },
  {
   "cell_type": "code",
   "execution_count": 10,
   "id": "80049138-e0e7-4c99-ab0d-954785ad45be",
   "metadata": {},
   "outputs": [],
   "source": [
    "import math"
   ]
  },
  {
   "cell_type": "code",
   "execution_count": 11,
   "id": "148872aa",
   "metadata": {},
   "outputs": [
    {
     "name": "stdout",
     "output_type": "stream",
     "text": [
      "Rounded number: 5.68\n"
     ]
    }
   ],
   "source": [
    "num = 5.6789\n",
    "rounded = round(num, 2)  # Round the number to 2 decimal places\n",
    "print(\"Rounded number:\", rounded)"
   ]
  },
  {
   "cell_type": "code",
   "execution_count": 12,
   "id": "8784e372",
   "metadata": {},
   "outputs": [
    {
     "name": "stdout",
     "output_type": "stream",
     "text": [
      "Rounded number 2: 4\n"
     ]
    }
   ],
   "source": [
    "num2 = 3.14159\n",
    "rounded2 = math.ceil(num2)  # Get the ceiling of the number\n",
    "print(\"Rounded number 2:\", rounded2)"
   ]
  },
  {
   "cell_type": "code",
   "execution_count": 13,
   "id": "c7ca6975",
   "metadata": {},
   "outputs": [
    {
     "name": "stdout",
     "output_type": "stream",
     "text": [
      "Rounded number 3: 2\n"
     ]
    }
   ],
   "source": [
    "num3 = 2.71828\n",
    "rounded3 = math.floor(num3)  # Get the floor of the number\n",
    "print(\"Rounded number 3:\", rounded3)"
   ]
  },
  {
   "cell_type": "code",
   "execution_count": 14,
   "id": "1e707969",
   "metadata": {},
   "outputs": [
    {
     "name": "stdout",
     "output_type": "stream",
     "text": [
      "Integer part: 5\n",
      "Truncated part: 5\n"
     ]
    }
   ],
   "source": [
    "num4 = 5.5678\n",
    "\n",
    "integer_part = int(num4)  # Get the integer part of the number\n",
    "print(\"Integer part:\", integer_part)\n",
    "\n",
    "truncated_part = math.trunc(num4)  # Get the truncated integer part\n",
    "print(\"Truncated part:\", truncated_part)"
   ]
  },
  {
   "cell_type": "markdown",
   "id": "b6aa7c4c",
   "metadata": {},
   "source": [
    "# **Error Measurement**"
   ]
  },
  {
   "cell_type": "code",
   "execution_count": 15,
   "id": "f72b23c0",
   "metadata": {},
   "outputs": [
    {
     "name": "stdout",
     "output_type": "stream",
     "text": [
      "Absolute error: 0.0002999999999957481\n",
      "Relative error: 2.430001773866855e-06\n"
     ]
    }
   ],
   "source": [
    "def calculate_error(actual, predicted):\n",
    "    absolute_error = abs(actual - predicted)\n",
    "    relative_error = (absolute_error / abs(actual)) if actual != 0 else float(\"inf\")\n",
    "    return absolute_error, relative_error\n",
    "\n",
    "actual_value = 123.4567\n",
    "predicted_value = 123.457\n",
    "\n",
    "absolute_error, relative_error = calculate_error(actual_value, predicted_value)\n",
    "print(\"Absolute error:\", absolute_error)\n",
    "print(\"Relative error:\", relative_error)"
   ]
  },
  {
   "cell_type": "code",
   "execution_count": 16,
   "id": "b703fe59",
   "metadata": {},
   "outputs": [
    {
     "name": "stdout",
     "output_type": "stream",
     "text": [
      "Number of significant digits: 3\n",
      "Number of significant digits: 5\n",
      "Number of significant digits: 5\n",
      "Number of significant digits: 7\n",
      "Number of significant digits: 6\n",
      "Number of significant digits: 9\n",
      "Number of significant digits: 0\n"
     ]
    }
   ],
   "source": [
    "def count_significant_digits(number_str):\n",
    "    integer_part, _, decimal_part = number_str.partition('.')\n",
    "    if decimal_part:\n",
    "        return len((integer_part + decimal_part).lstrip('0'))\n",
    "    else:\n",
    "        return len(integer_part.strip('0'))\n",
    "\n",
    "print(\"Number of significant digits:\", count_significant_digits(\"0.00456\"))      # 3\n",
    "print(\"Number of significant digits:\", count_significant_digits(\"12345\"))        # 5\n",
    "print(\"Number of significant digits:\", count_significant_digits(\"0.00012345\"))   # 5\n",
    "print(\"Number of significant digits:\", count_significant_digits(\"0.1234500\"))    # 6\n",
    "print(\"Number of significant digits:\", count_significant_digits(\"123.456\"))      # 6\n",
    "print(\"Number of significant digits:\", count_significant_digits(\"123.000456\"))   # 9\n",
    "print(\"Number of significant digits:\", count_significant_digits(\"0.0000\"))       # 0"
   ]
  },
  {
   "cell_type": "markdown",
   "id": "3dcf3314",
   "metadata": {},
   "source": [
    "# **Floating Point Numbers**"
   ]
  },
  {
   "cell_type": "code",
   "execution_count": null,
   "id": "9deb6a0b",
   "metadata": {},
   "outputs": [
    {
     "name": "stdout",
     "output_type": "stream",
     "text": [
      "Toplam mutlak hata: 0.0006594689999999126\n",
      "Toplam bağıl hata: 0.00036805665682792193\n"
     ]
    }
   ],
   "source": [
    "def abs_and_rel_error_sum(actual1, actual2, predicted1, predicted2):\n",
    "    actual_sum = actual1 + actual2\n",
    "    predicted_sum = predicted1 + predicted2\n",
    "    absolute_error = abs(actual_sum - predicted_sum)\n",
    "    relative_error = absolute_error / abs(actual_sum) if actual_sum != 0 else float(\"inf\")\n",
    "    return absolute_error, relative_error\n",
    "\n",
    "actual1 = 0.69314718\n",
    "actual2 = 1.098612289\n",
    "predicted1 = 0.6931\n",
    "predicted2 = 1.098\n",
    "\n",
    "absolute_error, relative_error = abs_and_rel_error_sum(actual1, actual2, predicted1, predicted2)\n",
    "\n",
    "print(\"Toplam mutlak hata:\", absolute_error)\n",
    "print(\"Toplam bağıl hata:\", relative_error)"
   ]
  },
  {
   "cell_type": "code",
   "execution_count": 17,
   "id": "da96fc09",
   "metadata": {},
   "outputs": [
    {
     "name": "stdout",
     "output_type": "stream",
     "text": [
      "Total absolute error: 0.0006594689999999126\n",
      "Total relative error: 0.00036805665682792193\n"
     ]
    }
   ],
   "source": [
    "def abs_and_rel_error_sum(actual1, actual2, predicted1, predicted2):\n",
    "    actual_sum = actual1 + actual2\n",
    "    predicted_sum = predicted1 + predicted2\n",
    "    absolute_error = abs(actual_sum - predicted_sum)\n",
    "    relative_error = absolute_error / abs(actual_sum) if actual_sum != 0 else float(\"inf\")\n",
    "    return absolute_error, relative_error\n",
    "\n",
    "actual1 = 0.69314718\n",
    "actual2 = 1.098612289\n",
    "predicted1 = 0.6931\n",
    "predicted2 = 1.098\n",
    "\n",
    "absolute_error, relative_error = abs_and_rel_error_sum(actual1, actual2, predicted1, predicted2)\n",
    "\n",
    "print(\"Total absolute error:\", absolute_error)\n",
    "print(\"Total relative error:\", relative_error)"
   ]
  },
  {
   "cell_type": "markdown",
   "id": "08df96a8",
   "metadata": {},
   "source": [
    "# **Storing Numbers in the Computer**"
   ]
  },
  {
   "cell_type": "markdown",
   "id": "e989515e",
   "metadata": {},
   "source": [
    "## 1. Binary Representation and Floating-Point Standards  \n",
    "Computers store numbers using binary representations. The **IEEE-754 double-precision (64-bit)** format is the most common system:  \n",
    "- **1 bit** for the sign (positive/negative).  \n",
    "- **11 bits** for the exponent (range: \\( -1022 \\) to \\( 1023 \\)).  \n",
    "- **52 bits** for the mantissa (≈15-17 decimal digits of precision).  \n",
    "\n",
    "**Mathematical Representation**:  \n",
    "$$ (-1)^s \\times (1.\\text{mantissa})_2 \\times 2^{(\\text{exponent} - 1023)} $$  \n",
    "Decimal numbers like \\( 0.1 \\) or \\( 1/3 \\) cannot be stored exactly, leading to rounding errors."
   ]
  },
  {
   "cell_type": "markdown",
   "id": "5f6d8600",
   "metadata": {},
   "source": [
    "## 2. Machine Epsilon and Rounding Errors  \n",
    "**Machine epsilon** (\\( \\epsilon \\)) defines the smallest relative rounding error:  \n",
    "- For IEEE-64: \\( \\epsilon = 2^{-53} \\approx 1.1 \\times 10^{-16} \\).  \n",
    "- Example: \\( 1 + \\epsilon \\) is the smallest value distinguishable from \\( 1 \\).  \n",
    "\n",
    "**Common Error Sources**:  \n",
    "- Cancellation (e.g., \\( 1 - \\cos(x) \\) for small \\( x \\)).  \n",
    "- Iterative methods (e.g., Newton-Raphson) accumulating errors."
   ]
  },
  {
   "cell_type": "markdown",
   "id": "a9a5c8ba",
   "metadata": {},
   "source": [
    "## 3. Integer vs. Floating-Point Representation  \n",
    "| **Integers**          | **Floating-Point**          |  \n",
    "|------------------------|-----------------------------|  \n",
    "| Exact storage (no rounding) | Approximate storage         |  \n",
    "| Limited range (e.g., \\( 2^{32} \\)) | Vast range (\\( 10^{-308} \\) to \\( 10^{308} \\)) |  \n",
    "| Used for counting/discrete math | Used for real-world measurements |  \n",
    "\n",
    "**Pitfall**: Mixing integers and floats in operations (e.g., loop counters)."
   ]
  },
  {
   "cell_type": "markdown",
   "id": "8ebb93fa",
   "metadata": {},
   "source": [
    "## 4. Special Values (IEEE-754)  \n",
    "- **NaN**: Result of undefined operations (e.g., \\( \\sqrt{-1} \\)).  \n",
    "- **Infinity**: Generated by overflow (e.g., \\( 1/0 \\)).  \n",
    "- **Denormalized numbers**: Allow gradual underflow (e.g., \\( 1.0 \\times 2^{-1024} \\))."
   ]
  },
  {
   "cell_type": "markdown",
   "id": "4d97307b",
   "metadata": {},
   "source": [
    "## 5. Implications for Numerical Algorithms  \n",
    "### Stability  \n",
    "Algorithms like **Gaussian elimination** require pivoting to avoid division by near-zero values.  \n",
    "### Error Propagation  \n",
    "- **Example**: Solving \\( Ax = b \\) with ill-conditioned matrices amplifies errors.  \n",
    "- **Mitigation**: Use QR decomposition or SVD for robustness.  \n",
    "\n",
    "### Adaptive Methods  \n",
    "- Adjust step sizes in ODE solvers (e.g., Runge-Kutta).  \n",
    "- Tolerance-based convergence checks (e.g., \\( |x_{n+1} - x_n| < 10^{-6} \\))."
   ]
  },
  {
   "cell_type": "markdown",
   "id": "66b7a3d5",
   "metadata": {},
   "source": [
    "## 6. Practical Examples of Precision Loss "
   ]
  },
  {
   "cell_type": "code",
   "execution_count": 19,
   "id": "e733dcd8",
   "metadata": {},
   "outputs": [
    {
     "data": {
      "text/plain": [
       "0.30000000000000004"
      ]
     },
     "execution_count": 19,
     "metadata": {},
     "output_type": "execute_result"
    }
   ],
   "source": [
    "0.1 + 0.2\n",
    "# Output: 0.30000000000000004"
   ]
  }
 ],
 "metadata": {
  "kernelspec": {
   "display_name": "usr",
   "language": "python",
   "name": "python3"
  },
  "language_info": {
   "codemirror_mode": {
    "name": "ipython",
    "version": 3
   },
   "file_extension": ".py",
   "mimetype": "text/x-python",
   "name": "python",
   "nbconvert_exporter": "python",
   "pygments_lexer": "ipython3",
   "version": "3.13.2"
  }
 },
 "nbformat": 4,
 "nbformat_minor": 5
}
